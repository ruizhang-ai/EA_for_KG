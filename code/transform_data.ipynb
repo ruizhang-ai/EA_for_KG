{
 "cells": [
  {
   "cell_type": "code",
   "execution_count": null,
   "metadata": {},
   "outputs": [],
   "source": [
    "import rdflib\n",
    "from rdflib import Graph, RDFS"
   ]
  },
  {
   "cell_type": "code",
   "execution_count": null,
   "metadata": {},
   "outputs": [],
   "source": [
    "# Define varaibles\n",
    "KB1 = \"dbp\"\n",
    "KB2 = \"wd\"\n",
    "SEED_RATIO = \"10\" \n",
    "SEED_FOLDER = \"0_\"+SEED_RATIO[:1]\n",
    "DATASET = KB1.upper()+\"_\"+KB2.upper()"
   ]
  },
  {
   "cell_type": "code",
   "execution_count": null,
   "metadata": {},
   "outputs": [],
   "source": [
    "# Load KGs\n",
    "\n",
    "dbp_filename = '../data/'+DATASET+'/'+KB1+'_'+KB2+'.ttl'\n",
    "kb2_filename = '../data/'+DATASET+'/'+KB2+'.ttl'\n",
    "map_filename = '../data/'+DATASET+'/mapping_'+KB2+'.ttl'\n",
    "seed_filename = '../data/'+DATASET+'/seed_'+SEED_RATIO+'.ttl'\n",
    "\n",
    "dbp_graph = Graph()\n",
    "dbp_graph.parse(location=dbp_filename, format='nt')\n",
    "kb2_graph = Graph()\n",
    "kb2_graph.parse(location=kb2_filename, format='nt')\n",
    "map_graph = Graph()\n",
    "map_graph.parse(location=map_filename, format='nt')\n",
    "seed_graph = Graph()\n",
    "seed_graph.parse(location=seed_filename, format='nt')"
   ]
  },
  {
   "cell_type": "code",
   "execution_count": null,
   "metadata": {},
   "outputs": [],
   "source": [
    "# Get entity dictionary\n",
    "\n",
    "def get_ent_set(graph):\n",
    "    ent_set = set()\n",
    "    for triple in graph:\n",
    "        s,p,o = triple\n",
    "        if str(s) not in ent_set:\n",
    "            ent_set.add(str(s))\n",
    "        if isinstance(o, rdflib.URIRef) and str(o) not in ent_set:\n",
    "            ent_set.add(str(o))\n",
    "    return ent_set\n",
    "\n",
    "def get_ent_dict(graph, start_id):\n",
    "    ent_set = get_ent_set(graph)\n",
    "    count = start_id\n",
    "    res = dict()\n",
    "    for e in ent_set:\n",
    "        res[e] = count\n",
    "        count += 1\n",
    "    return res\n",
    "\n",
    "kb2_ent_ids = get_ent_dict(kb2_graph, 0)\n",
    "next_id = max(kb2_ent_ids.values()) + 1\n",
    "dbp_ent_ids = get_ent_dict(dbp_graph, next_id)"
   ]
  },
  {
   "cell_type": "markdown",
   "metadata": {},
   "source": [
    "### Generate \"ent_ids\""
   ]
  },
  {
   "cell_type": "code",
   "execution_count": null,
   "metadata": {},
   "outputs": [],
   "source": [
    "inv_kb2_ent_ids = {v: k for k, v in kb2_ent_ids.items()}\n",
    "fw = open('./data/'+KB2+\"/\"+SEED_FOLDER+'/ent_ids_1', 'w')\n",
    "for e in sorted(inv_kb2_ent_ids):\n",
    "    fw.write(str(e)+'\\t'+str(inv_kb2_ent_ids[e])+'\\n')\n",
    "fw.close()"
   ]
  },
  {
   "cell_type": "code",
   "execution_count": null,
   "metadata": {},
   "outputs": [],
   "source": [
    "inv_dbp_ent_ids = {v: k for k, v in dbp_ent_ids.items()}\n",
    "fw = open('./data/'+KB2+\"/\"+SEED_FOLDER+'/ent_ids_2', 'w')\n",
    "for e in sorted(inv_dbp_ent_ids):\n",
    "    fw.write(str(e)+'\\t'+str(inv_dbp_ent_ids[e])+'\\n')\n",
    "fw.close()"
   ]
  },
  {
   "cell_type": "markdown",
   "metadata": {},
   "source": [
    "### Generate \"ref_ent_ids\""
   ]
  },
  {
   "cell_type": "code",
   "execution_count": null,
   "metadata": {},
   "outputs": [],
   "source": [
    "seeds_file = open('./data/'+KB2+\"/\"+SEED_FOLDER+'/ref_ent_ids', 'w')\n",
    "for s_triple in seed_graph:\n",
    "    s_s, s_p, s_o = s_triple\n",
    "    seeds_file.write(str(kb2_ent_ids[str(s_o)])+'\\t'+str(dbp_ent_ids[str(s_s)])+'\\n')\n",
    "\n",
    "for triple in map_graph:\n",
    "    s, p, o = triple\n",
    "    seeds_file.write(str(kb2_ent_ids[str(o)])+'\\t'+str(dbp_ent_ids[str(s)])+'\\n')\n",
    "seeds_file.close()"
   ]
  },
  {
   "cell_type": "markdown",
   "metadata": {},
   "source": [
    "### Generate triples"
   ]
  },
  {
   "cell_type": "code",
   "execution_count": null,
   "metadata": {},
   "outputs": [],
   "source": [
    "def getRelDict(graph):\n",
    "    rel = dict()\n",
    "    counter = 0\n",
    "    for triple in graph:\n",
    "        s,p,o = triple\n",
    "        if str(p) not in rel and isinstance(o, rdflib.URIRef):\n",
    "            rel[str(p)] = counter\n",
    "            counter += 1\n",
    "    return rel"
   ]
  },
  {
   "cell_type": "code",
   "execution_count": null,
   "metadata": {},
   "outputs": [],
   "source": [
    "kb2_rel_ids = getRelDict(kb2_graph)\n",
    "dbp_rel_ids = getRelDict(dbp_graph)"
   ]
  },
  {
   "cell_type": "code",
   "execution_count": null,
   "metadata": {},
   "outputs": [],
   "source": [
    "fw = open('./data/'+KB2+\"/\"+SEED_FOLDER+'/triples_1', 'w')\n",
    "for triple in kb2_graph:\n",
    "    s,p,o = triple    \n",
    "    if isinstance(o, rdflib.URIRef):\n",
    "        try:\n",
    "            fw.write(str(kb2_ent_ids[str(s)]) + '\\t' + str(kb2_rel_ids[str(p)]) + '\\t' + str(kb2_ent_ids[str(o)])+'\\n')\n",
    "        except:\n",
    "            continue\n",
    "fw.close()"
   ]
  },
  {
   "cell_type": "code",
   "execution_count": null,
   "metadata": {},
   "outputs": [],
   "source": [
    "fw = open('./data/'+KB2+\"/\"+SEED_FOLDER+'/triples_2', 'w')\n",
    "for triple in dbp_graph:\n",
    "    s,p,o = triple    \n",
    "    if isinstance(o, rdflib.URIRef):\n",
    "        try:\n",
    "            fw.write(str(dbp_ent_ids[str(s)]) + '\\t' + str(dbp_rel_ids[str(p)]) + '\\t' + str(dbp_ent_ids[str(o)])+'\\n')\n",
    "        except:\n",
    "            continue\n",
    "fw.close()"
   ]
  },
  {
   "cell_type": "markdown",
   "metadata": {},
   "source": [
    "### Generate attribute data"
   ]
  },
  {
   "cell_type": "code",
   "execution_count": null,
   "metadata": {},
   "outputs": [],
   "source": [
    "def get_attr_set(graph):\n",
    "    attr_set = set()\n",
    "    for triple in graph:\n",
    "        s,p,o = triple    \n",
    "        if isinstance(o, rdflib.Literal):\n",
    "            attr_set.add(p)\n",
    "    return attr_set"
   ]
  },
  {
   "cell_type": "code",
   "execution_count": null,
   "metadata": {},
   "outputs": [],
   "source": [
    "def get_training_attrs(graph, attr_set):\n",
    "    training_attrs = set()\n",
    "    for subject in graph.subjects():\n",
    "        row = list()\n",
    "        row.append(str(subject))\n",
    "        count = 0\n",
    "        for triple in graph.triples((subject, None, None)):\n",
    "            s,p,o = triple\n",
    "            if p in attr_set:\n",
    "                row.append(str(p))\n",
    "                count += 1\n",
    "        if count > 0:\n",
    "            training_attrs.add('\\t'.join(row))\n",
    "        \n",
    "    return training_attrs"
   ]
  },
  {
   "cell_type": "code",
   "execution_count": null,
   "metadata": {},
   "outputs": [],
   "source": [
    "kb2_attrs = get_attr_set(kb2_graph)\n",
    "kb2_training_attrs = get_training_attrs(kb2_graph, kb2_attrs)\n",
    "fw1 = open('./data/'+KB2+\"/\"+SEED_FOLDER+'/training_attrs_1', 'w')\n",
    "for e in kb2_training_attrs:\n",
    "    fw1.write(str(e)+'\\n')\n",
    "fw1.close()"
   ]
  },
  {
   "cell_type": "code",
   "execution_count": null,
   "metadata": {},
   "outputs": [],
   "source": [
    "dbp_attrs = get_attr_set(dbp_graph)\n",
    "dbp_training_attrs = get_training_attrs(dbp_graph, dbp_attrs)\n",
    "fw2 = open('./data/'+KB2+\"/\"+SEED_FOLDER+'/training_attrs_2', 'w')\n",
    "for e in dbp_training_attrs:\n",
    "    fw2.write(str(e)+'\\n')\n",
    "fw2.close()"
   ]
  }
 ],
 "metadata": {
  "kernelspec": {
   "display_name": "Python 2",
   "language": "python",
   "name": "python2"
  },
  "language_info": {
   "codemirror_mode": {
    "name": "ipython",
    "version": 3
   },
   "file_extension": ".py",
   "mimetype": "text/x-python",
   "name": "python",
   "nbconvert_exporter": "python",
   "pygments_lexer": "ipython3",
   "version": "3.8.3"
  }
 },
 "nbformat": 4,
 "nbformat_minor": 4
}
