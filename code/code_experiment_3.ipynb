{
 "cells": [
  {
   "cell_type": "code",
   "execution_count": null,
   "metadata": {},
   "outputs": [],
   "source": [
    "import pickle\n",
    "import numpy as np\n",
    "from sklearn import preprocessing"
   ]
  },
  {
   "cell_type": "code",
   "execution_count": null,
   "metadata": {},
   "outputs": [],
   "source": [
    "# Define varaibles\n",
    "KB1 = \"dbp\"\n",
    "KB2 = \"wd\"\n",
    "SEED_FOLDER = \"0_3\"\n",
    "dataset = KB2+\"_\"+KB1\n",
    "K = 10"
   ]
  },
  {
   "cell_type": "code",
   "execution_count": null,
   "metadata": {},
   "outputs": [],
   "source": [
    "# LOAD DATA\n",
    "\n",
    "ent2type = pickle.load(open(\"./data/dbp_ent2type.pickle\", \"rb\")) # load entity type\n",
    "emb = pickle.load(open(\"./data/\"+KB2+\"/\"+SEED_FOLDER+\"/SE_\"+dataset, \"rb\")) # load embeddings\n",
    "\n",
    "# load entity id\n",
    "dbp_id_ent = dict()\n",
    "with open(\"./data/\"+KB2+\"/\"+SEED_FOLDER+'/ent_ids_2', 'r') as f:\n",
    "    for line in f.readlines():\n",
    "        line = line.rstrip().split('\\t')\n",
    "        idx = int(line[0])\n",
    "        ent = line[1]\n",
    "        dbp_id_ent[idx] = ent\n",
    "\n",
    "#load entity type id\n",
    "dbp_id_ent_type = dict()\n",
    "for idx, ent in dbp_id_ent.items():\n",
    "    try:\n",
    "        ent_type = ent2type[ent]\n",
    "        dbp_id_ent_type[idx] = ent_type\n",
    "    except:\n",
    "        continue\n",
    "type_dict = dict()\n",
    "counter = 0\n",
    "for ent_type in dbp_id_ent_type.values():\n",
    "    if ent_type not in type_dict:\n",
    "        type_dict[ent_type] = counter\n",
    "        counter += 1"
   ]
  },
  {
   "cell_type": "code",
   "execution_count": null,
   "metadata": {},
   "outputs": [],
   "source": [
    "# create training and testing data\n",
    "\n",
    "my_data = list()\n",
    "my_type = list()\n",
    "for idx, ent_type_txt in dbp_id_ent_type.items():\n",
    "    my_data.append(emb[idx])\n",
    "    my_type.append(type_dict[ent_type_txt])\n",
    "\n",
    "X = np.asarray(my_data)\n",
    "y = np.asarray(my_type)"
   ]
  },
  {
   "cell_type": "code",
   "execution_count": null,
   "metadata": {},
   "outputs": [],
   "source": [
    "from sklearn import svm\n",
    "from sklearn.model_selection import cross_val_score\n",
    "\n",
    "clf = svm.SVC(verbose=3)\n",
    "scores = cross_val_score(clf, X, y, cv=2)\n",
    "print(\"Accuracy: %0.4f (+/- %0.4f)\" % (scores.mean(), scores.std() * 2))"
   ]
  }
 ],
 "metadata": {
  "kernelspec": {
   "display_name": "Python (KBA)",
   "language": "python",
   "name": "kba"
  },
  "language_info": {
   "codemirror_mode": {
    "name": "ipython",
    "version": 3
   },
   "file_extension": ".py",
   "mimetype": "text/x-python",
   "name": "python",
   "nbconvert_exporter": "python",
   "pygments_lexer": "ipython3",
   "version": "3.6.12"
  }
 },
 "nbformat": 4,
 "nbformat_minor": 4
}
