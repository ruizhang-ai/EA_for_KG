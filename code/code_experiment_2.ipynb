{
 "cells": [
  {
   "cell_type": "code",
   "execution_count": 1,
   "metadata": {},
   "outputs": [],
   "source": [
    "import pickle\n",
    "import numpy as np\n",
    "import scipy\n",
    "from scipy.spatial import distance"
   ]
  },
  {
   "cell_type": "code",
   "execution_count": 2,
   "metadata": {},
   "outputs": [],
   "source": [
    "# Define varaibles\n",
    "\n",
    "KB1 = \"dbp\"\n",
    "KB2 = \"wd\"\n",
    "SEED_RATIO = \"30\"\n",
    "SEED_FOLDER = \"0_\"+SEED_RATIO[:1]\n",
    "DATASET = KB1.upper()+\"_\"+KB2.upper()\n",
    "K = 10"
   ]
  },
  {
   "cell_type": "code",
   "execution_count": 3,
   "metadata": {},
   "outputs": [],
   "source": [
    "# Load Vocab\n",
    "\n",
    "def get_vocab(filename):\n",
    "    fo = open(filename,\"r\")\n",
    "    list_id = list()\n",
    "    id2ent=dict()\n",
    "    ent2id=dict()\n",
    "    counter = 0\n",
    "    for line in fo:\n",
    "        line_split = line.split()\n",
    "        the_id = counter\n",
    "        the_ent = line_split[1]\n",
    "        id2ent[int(the_id)] = the_ent\n",
    "        ent2id[the_ent] = int(the_id)\n",
    "        list_id.append(int(line_split[0]))\n",
    "        counter+=1\n",
    "    fo.close()\n",
    "    return id2ent, ent2id, list_id\n",
    "\n",
    "kb1_vocab_filename = './data/'+KB2+'/'+SEED_FOLDER+'/'+'ent_ids_1'\n",
    "kb2_vocab_filename = './data/'+KB2+'/'+SEED_FOLDER+'/'+'ent_ids_2'\n",
    "\n",
    "kb1_id2ent, kb1_ent2id, kb1_ids = get_vocab(kb1_vocab_filename)\n",
    "kb2_id2ent, kb2_ent2id, kb2_ids = get_vocab(kb2_vocab_filename)"
   ]
  },
  {
   "cell_type": "code",
   "execution_count": 4,
   "metadata": {},
   "outputs": [],
   "source": [
    "# Load Embeddings\n",
    "\n",
    "all_emb_filename = './data/'+KB2+'/'+SEED_FOLDER+'/SE_'+KB2+'_'+KB1\n",
    "all_emb = pickle.load(open(all_emb_filename, 'rb'))\n",
    "\n",
    "se = all_emb\n",
    "se_kb1_emb = np.take(se, kb1_ids, axis=0)\n",
    "se_kb2_emb = np.take(all_emb, kb2_ids, axis=0)"
   ]
  },
  {
   "cell_type": "code",
   "execution_count": null,
   "metadata": {},
   "outputs": [],
   "source": [
    "fmap = open('./data/'+KB2+'/'+SEED_FOLDER+'/'+'test_ent_ids', 'r')\n",
    "\n",
    "confidence_list = list()\n",
    "for line in fmap:\n",
    "    line_split = line.rstrip().split('\\t')\n",
    "    src_ent = int(line_split[0])\n",
    "    tar_ent = int(line_split[1])-len(se_kb1_emb)\n",
    "    \n",
    "    src_emb = se_kb1_emb[src_ent,:].reshape(1,-1)\n",
    "    sim = scipy.spatial.distance.cdist(src_emb, se_kb2_emb, metric='cosine') #change metric here\n",
    "    \n",
    "    top_k = sim[0].argsort()[:K]\n",
    "    \n",
    "    if(tar_ent == top_k[0]):\n",
    "        confidence_list.append(sim[0][top_k[1]] - sim[0][top_k[0]]) # confidence -> second best minus top \n",
    "\n",
    "print (np.mean(confidence_list))\n",
    "fmap.close()\n"
   ]
  }
 ],
 "metadata": {
  "kernelspec": {
   "display_name": "Python 3",
   "language": "python",
   "name": "python3"
  },
  "language_info": {
   "codemirror_mode": {
    "name": "ipython",
    "version": 3
   },
   "file_extension": ".py",
   "mimetype": "text/x-python",
   "name": "python",
   "nbconvert_exporter": "python",
   "pygments_lexer": "ipython3",
   "version": "3.8.3"
  }
 },
 "nbformat": 4,
 "nbformat_minor": 4
}
